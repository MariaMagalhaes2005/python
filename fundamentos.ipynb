{
  "nbformat": 4,
  "nbformat_minor": 0,
  "metadata": {
    "colab": {
      "provenance": [],
      "authorship_tag": "ABX9TyNMYod9VymVBY6nWIBoSm8F",
      "include_colab_link": true
    },
    "kernelspec": {
      "name": "python3",
      "display_name": "Python 3"
    },
    "language_info": {
      "name": "python"
    }
  },
  "cells": [
    {
      "cell_type": "markdown",
      "metadata": {
        "id": "view-in-github",
        "colab_type": "text"
      },
      "source": [
        "<a href=\"https://colab.research.google.com/github/MariaMagalhaes2005/python/blob/main/fundamentos.ipynb\" target=\"_parent\"><img src=\"https://colab.research.google.com/assets/colab-badge.svg\" alt=\"Open In Colab\"/></a>"
      ]
    },
    {
      "cell_type": "code",
      "execution_count": null,
      "metadata": {
        "id": "IAxOAOlI7r-U"
      },
      "outputs": [],
      "source": [
        "# é usado para fazer comentarios\n",
        "\n",
        "''' é usado para fazer um texto com mais de uma linha\n",
        "exemplo '''"
      ]
    },
    {
      "cell_type": "markdown",
      "source": [
        "# **PRINT**"
      ],
      "metadata": {
        "id": "LBknMFLp_AmP"
      }
    },
    {
      "cell_type": "code",
      "source": [
        "# o print exibe as informaçoes como saida, exemplo:\n",
        "\n",
        "print('ola mundo') #texto\n",
        "print(100) #valor inteiro\n",
        "print(99.9) #valor com decimais\n",
        "\n",
        "# ou\n",
        "\n",
        "print('ola mundo' , 100 , 99.9)"
      ],
      "metadata": {
        "colab": {
          "base_uri": "https://localhost:8080/"
        },
        "id": "ORjwTJSi_Xrs",
        "outputId": "69a4c726-3841-4baf-c544-b824124d7919"
      },
      "execution_count": null,
      "outputs": [
        {
          "output_type": "stream",
          "name": "stdout",
          "text": [
            "ola mundo\n",
            "100\n",
            "99.9\n",
            "ola mundo 100 99.9\n"
          ]
        }
      ]
    },
    {
      "cell_type": "code",
      "source": [
        "# sep é usado para fazer separaçoes, exemplo:\n",
        "\n",
        "print('maça' , 'banana' , 'uva' , sep= ' - ')"
      ],
      "metadata": {
        "colab": {
          "base_uri": "https://localhost:8080/"
        },
        "id": "q0yn5QMOAmvw",
        "outputId": "bcc70f3b-8d32-4d23-f986-67deb4c4ed47"
      },
      "execution_count": null,
      "outputs": [
        {
          "output_type": "stream",
          "name": "stdout",
          "text": [
            "maça - banana - uva\n"
          ]
        }
      ]
    },
    {
      "cell_type": "code",
      "source": [
        "# \\n serve para quebrar linhas, exemplo:\n",
        "\n",
        "print('este é um texto grande, \\n nao muito grande' )\n",
        "\n",
        "# ou\n",
        "\n",
        "print('este é um texto grande' , 'nao muito grande' , sep= ' \\n')"
      ],
      "metadata": {
        "colab": {
          "base_uri": "https://localhost:8080/"
        },
        "id": "Db5YcUxmBlBF",
        "outputId": "0e7e99e4-d957-4a5b-bcdb-49d378082291"
      },
      "execution_count": null,
      "outputs": [
        {
          "output_type": "stream",
          "name": "stdout",
          "text": [
            "este é um texto grande, \n",
            " nao muito grande\n",
            "este é um texto grande \n",
            "nao muito grande\n"
          ]
        }
      ]
    },
    {
      "cell_type": "code",
      "source": [
        "# %s pode ser usado como uma subistituiçao para os resultados, exemplo:\n",
        "\n",
        "print('a pontuaçao de %s foi %s' % ('maria' , '10'))\n",
        "\n",
        "# ou usando {}, exemplo:\n",
        "\n",
        "print('a pontuaçao de {} foi {}' .format ('maria' , \"10\"))"
      ],
      "metadata": {
        "colab": {
          "base_uri": "https://localhost:8080/"
        },
        "id": "qYYt2GYaDPI-",
        "outputId": "b2c25a93-275e-418b-8f0d-084b341039d8"
      },
      "execution_count": null,
      "outputs": [
        {
          "output_type": "stream",
          "name": "stdout",
          "text": [
            "a pontuaçao de maria foi 10\n",
            "a pontuaçao de maria foi 10\n"
          ]
        }
      ]
    },
    {
      "cell_type": "markdown",
      "source": [
        "# **ATIVIDADES** **DE** **METODO** **PRINT**\n"
      ],
      "metadata": {
        "id": "X7K1n5zyF4_b"
      }
    },
    {
      "cell_type": "code",
      "source": [
        "# 1- REALIZE O PRINT DO SEU NOE COMPLETO, SUA IDADE E SUA ALTURA UTILIZANDO UM PRINT PARA CADA VALOR.\n",
        "\n",
        "print('Maria Eduarda')\n",
        "print(19)\n",
        "print(1.67)"
      ],
      "metadata": {
        "colab": {
          "base_uri": "https://localhost:8080/"
        },
        "id": "DHg0k1MjF_kG",
        "outputId": "88fa7754-3ad1-4a62-8807-0397f4f72a75"
      },
      "execution_count": null,
      "outputs": [
        {
          "output_type": "stream",
          "name": "stdout",
          "text": [
            "Maria Eduarda\n",
            "19\n",
            "1.67\n"
          ]
        }
      ]
    },
    {
      "cell_type": "code",
      "source": [
        "# 2- REALIZE O PRINT DO SEU NOME COMPLETO, SUA IDADE E SUA ALTURA UTILIZANDO APENAS UM PRINT PARA TODOS OS VALORES.\n",
        "\n",
        "print('Maria Eduarda' , '19' , '1.67')"
      ],
      "metadata": {
        "colab": {
          "base_uri": "https://localhost:8080/"
        },
        "id": "tLRqCtPMHGX3",
        "outputId": "5c368115-03b1-45c3-f444-c2eaa02a1ceb"
      },
      "execution_count": null,
      "outputs": [
        {
          "output_type": "stream",
          "name": "stdout",
          "text": [
            "Maria Eduarda 19 1.67\n"
          ]
        }
      ]
    },
    {
      "cell_type": "code",
      "source": [
        "# 3- REALIZE O PRINT DE 3 NUMEROS DA SUA ESCOLHA EM UM MESMO PRINT, MAS SEPARADOS PELO CARACTERE '-'.\n",
        "\n",
        "print('5' , '10' , '15' , sep= ' - ')"
      ],
      "metadata": {
        "colab": {
          "base_uri": "https://localhost:8080/"
        },
        "id": "tQLO4p7JHtgE",
        "outputId": "f96ff636-66d3-4e62-a18f-573146a2b062"
      },
      "execution_count": null,
      "outputs": [
        {
          "output_type": "stream",
          "name": "stdout",
          "text": [
            "5 - 10 - 15\n"
          ]
        }
      ]
    },
    {
      "cell_type": "markdown",
      "source": [
        "# **VARIAVEIS**\n"
      ],
      "metadata": {
        "id": "rkkboQ2RDfSx"
      }
    },
    {
      "cell_type": "code",
      "source": [
        "# um espaço na memoria que pode guardar um valor de qualquer tipo e pode ser alterado durante o codigo, exemplo:\n",
        "\n",
        "numero= 10 #o \"numero\" é um tipo de varialvel\n",
        "nome= trix #\"nome\" é outro tipo de variavel"
      ],
      "metadata": {
        "id": "-_z_WDt8Dkh0"
      },
      "execution_count": null,
      "outputs": []
    },
    {
      "cell_type": "markdown",
      "source": [
        "# **EXERCICIOS VARIAVEIS**"
      ],
      "metadata": {
        "id": "uE7liPDEJW51"
      }
    },
    {
      "cell_type": "code",
      "source": [
        "# 1- CRIE UMA VARIAVEL DE CADA TIPO E PONHA ALGUM VALOR ESCOLHIDO, EM SEGUIDA, PRINTE TODOS ESSES VALORES\n",
        "\n",
        "texto= 'isso é um texto'\n",
        "inteiro= 10\n",
        "flutuante= 99.9\n",
        "print(texto)\n",
        "print(inteiro)\n",
        "print(flutuante)"
      ],
      "metadata": {
        "colab": {
          "base_uri": "https://localhost:8080/"
        },
        "id": "IEctXUEiJpHj",
        "outputId": "99876f05-ba1c-4778-ac87-4ef59dd06ef7"
      },
      "execution_count": null,
      "outputs": [
        {
          "output_type": "stream",
          "name": "stdout",
          "text": [
            "isso é um texto\n",
            "10\n",
            "99.9\n"
          ]
        }
      ]
    },
    {
      "cell_type": "code",
      "source": [
        "# 2- CRIE VARIAVEIS PARA GURDAR SEU NOME,CPF E UMA QUE INDIQUE SE VOCE ESTA CASADO, EM SEGUIDA PRINTE ESSES VALORES SEPARADAMENTE, MAS N SE ESQUEÇA DE PRINTAR JUNTO O QUE ELES SIGNIFICAM\n",
        "\n",
        "nome= 'trix'\n",
        "CPF= '123.456.789-10'\n",
        "casado= 'solteiro'\n",
        "print('nome:', nome)\n",
        "print('CPF:', CPF)\n",
        "print('estado civil:', casado)\n"
      ],
      "metadata": {
        "colab": {
          "base_uri": "https://localhost:8080/"
        },
        "id": "VzXqmJnOK24w",
        "outputId": "e6fd2011-3455-486e-9fac-af4767c50d4d"
      },
      "execution_count": null,
      "outputs": [
        {
          "output_type": "stream",
          "name": "stdout",
          "text": [
            "nome: trix\n",
            "CPF: 123.456.789-10\n",
            "estado civil: solteiro\n"
          ]
        }
      ]
    },
    {
      "cell_type": "markdown",
      "source": [
        "# **FORMATAÇAO**"
      ],
      "metadata": {
        "id": "IsSEgUEIv1cZ"
      }
    },
    {
      "cell_type": "code",
      "source": [
        "# %s = texto\n",
        "# %d = numeros inteiros\n",
        "# %f = numeros quebrados"
      ],
      "metadata": {
        "id": "WREzNLD_v5av"
      },
      "execution_count": null,
      "outputs": []
    },
    {
      "cell_type": "code",
      "source": [
        "num= 19\n",
        "print('ela tem %d anos' % (num))"
      ],
      "metadata": {
        "colab": {
          "base_uri": "https://localhost:8080/"
        },
        "id": "90Lynb2wxjAh",
        "outputId": "04501e0e-46ba-41af-c334-8fdfaaedd53c"
      },
      "execution_count": null,
      "outputs": [
        {
          "output_type": "stream",
          "name": "stdout",
          "text": [
            "ela tem 19 anos\n"
          ]
        }
      ]
    },
    {
      "cell_type": "code",
      "source": [
        "# para reduzir um numero muito grande com ',' se usa '.algum numero'antes do 'f' dai so contara as casas que vc denominou, ex:\n",
        "numero= 1.5226504\n",
        "print('%.2f' %(numero))"
      ],
      "metadata": {
        "colab": {
          "base_uri": "https://localhost:8080/"
        },
        "id": "qYp-RxvqzGAx",
        "outputId": "1d8c0030-9a2e-47a8-a304-1b9f8f64f9d6"
      },
      "execution_count": null,
      "outputs": [
        {
          "output_type": "stream",
          "name": "stdout",
          "text": [
            "1.52\n"
          ]
        }
      ]
    },
    {
      "cell_type": "markdown",
      "source": [
        "# **EXERCICIOS DE FORMATAÇAO**"
      ],
      "metadata": {
        "id": "pxQ23BWd1a1U"
      }
    },
    {
      "cell_type": "code",
      "source": [
        "# 1- ESCREVA E FORMATE A DATA EM QUE VOCE NASCEU NO FORMATO DIA/MES/ANO. QUE UMA VARIAVEL PARA CADA.\n",
        "\n",
        "dia= 17\n",
        "mes= 11\n",
        "ano= 2005\n",
        "print('eu nasci em %d/%d/%d.' %(dia, mes, ano))"
      ],
      "metadata": {
        "colab": {
          "base_uri": "https://localhost:8080/"
        },
        "id": "teBUFJ571i8w",
        "outputId": "c2977ebb-8836-4cc6-e235-93a1b5016d47"
      },
      "execution_count": null,
      "outputs": [
        {
          "output_type": "stream",
          "name": "stdout",
          "text": [
            "eu nasci em 17/11/2005.\n"
          ]
        }
      ]
    },
    {
      "cell_type": "code",
      "source": [
        "# 2- ESCREVA E FORMATE A HORA E O MINUTO ATUAL.\n",
        "hora= 21\n",
        "minuto= 17\n",
        "print('agora sao %d:%d.' %(hora, minuto))"
      ],
      "metadata": {
        "colab": {
          "base_uri": "https://localhost:8080/"
        },
        "id": "fOO_KcCa2Xjc",
        "outputId": "62553ff3-31c4-4f7e-d38b-55a88b30b425"
      },
      "execution_count": null,
      "outputs": [
        {
          "output_type": "stream",
          "name": "stdout",
          "text": [
            "agora sao 21:17.\n"
          ]
        }
      ]
    },
    {
      "cell_type": "code",
      "source": [
        "# 3- ESCREVA UM PROGRAMA QUE CONTENHA UM NUMERO PI, QUE DEVE TER O VALOR EXATO DE 3,141592653, AGORA FORMATE ESSE NUMERO PARA TER APENAS 2 CASAS DECIMAIS.\n",
        "\n",
        "PI= 3.141592653\n",
        "print('o valor de PI é: %.9f' %(PI))\n",
        "\n",
        "PI= 3.141592653\n",
        "print('o valor reduzido de PI é: %.2f' %(PI))"
      ],
      "metadata": {
        "colab": {
          "base_uri": "https://localhost:8080/"
        },
        "id": "ZUCDOs4d29Ri",
        "outputId": "ddae38eb-0200-4ca2-dbf9-f67175c72f26"
      },
      "execution_count": null,
      "outputs": [
        {
          "output_type": "stream",
          "name": "stdout",
          "text": [
            "o valor de PI é: 3.141592653\n",
            "o valor reduzido de PI é: 3.14\n"
          ]
        }
      ]
    },
    {
      "cell_type": "markdown",
      "source": [
        "# **OPERADORES** **ARITIMETICOS**"
      ],
      "metadata": {
        "id": "y6XswqwyRnWr"
      }
    },
    {
      "cell_type": "code",
      "source": [
        "# nao é necessario criar uma variavel para operaçoes aritimeticas, ex:\n",
        "96780\n",
        "print(50 + 50)\n",
        "\n",
        "# as operaçoes aritimeticas sao '+', '-', 'x' ou '%'\n",
        "\n",
        "print(5+5) # soma\n",
        "print(15-5) # subitraçao\n",
        "print(5*2) # multiplicaçao\n",
        "print(20/2) # divisao\n",
        "\n",
        "# ou tambem pode ser feito com variaveis, ex:\n",
        "\n",
        "soma= 50 + 50\n",
        "print(soma)"
      ],
      "metadata": {
        "colab": {
          "base_uri": "https://localhost:8080/"
        },
        "id": "6WV0Ynd9RztX",
        "outputId": "15191c27-5008-4044-a84f-c842379f6b74"
      },
      "execution_count": null,
      "outputs": [
        {
          "output_type": "stream",
          "name": "stdout",
          "text": [
            "100\n",
            "10\n",
            "10\n",
            "10\n",
            "10.0\n",
            "100\n"
          ]
        }
      ]
    },
    {
      "cell_type": "code",
      "source": [
        "# na forma de divisao é possivel arredondar o numero, ex:\n",
        "\n",
        "print(10/3) # vai sair quebrado\n",
        "print(10//3) # vai sair um numero arredondado\n",
        "\n",
        "# para elevar um numero se usa dois asteriscos, ex:\n",
        "\n",
        "print(2**2)\n",
        "\n",
        "# e a % indica se vai ter resto zero ou 1, ex:\n",
        "print(4%2) # resto zero\n",
        "print(4%3) # resto 1"
      ],
      "metadata": {
        "colab": {
          "base_uri": "https://localhost:8080/"
        },
        "id": "Qcwat5LuUZHz",
        "outputId": "d8b5299b-d0b1-4214-f302-ec0c36f91a79"
      },
      "execution_count": null,
      "outputs": [
        {
          "output_type": "stream",
          "name": "stdout",
          "text": [
            "3.3333333333333335\n",
            "3\n",
            "4\n",
            "0\n",
            "1\n"
          ]
        }
      ]
    },
    {
      "cell_type": "code",
      "source": [
        "# ordem de prioridade:\n",
        "# 1- exponenciaçao ( ** )\n",
        "# 2- multiplicaçao ( * )\n",
        "# 3- divisao ( / )\n",
        "# 4- resto ( % )\n",
        "# 5- divisao inteira ( // )\n",
        "# e por umtimo a soma (+) e subtraçao (-)\n",
        "# ex:\n",
        "\n",
        "calculo= 10 * 2 + 1\n",
        "print(calculo) # vai contar primeiro a multiplicaçao e depois a soma\n",
        "calculo_1= 10 * (1 + 2)\n",
        "print(calculo_1) # vai contar primeiro o ()\n"
      ],
      "metadata": {
        "colab": {
          "base_uri": "https://localhost:8080/"
        },
        "id": "GbRGPL2nXa9f",
        "outputId": "d4df75ca-9784-4553-9346-e3eb83f361d2"
      },
      "execution_count": null,
      "outputs": [
        {
          "output_type": "stream",
          "name": "stdout",
          "text": [
            "21\n",
            "30\n"
          ]
        }
      ]
    },
    {
      "cell_type": "markdown",
      "source": [
        "# **EXERCICIOS ORDEM ARITIMETICA**"
      ],
      "metadata": {
        "id": "OWY7LWBEbEG7"
      }
    },
    {
      "cell_type": "code",
      "source": [
        "# 1- CRIE DUAS VARIAVEIS, UMA RECEBE O ANO EM QUE ESTAMOS E A OUTRA O ANO QUE VOCE NASCEU. EM SEGUIDA SUBITRAIA PARA TER UMA ESTIMATIVA DE QUANTOS ANOS VOCE TEM.\n",
        "\n",
        "ano_atual= 2025\n",
        "ano_de_nascimento= 2005\n",
        "print(ano_atual - ano_de_nascimento)"
      ],
      "metadata": {
        "colab": {
          "base_uri": "https://localhost:8080/"
        },
        "id": "a5JDw0VUbSZM",
        "outputId": "c33650b1-628f-4f06-c49b-065fde652884"
      },
      "execution_count": null,
      "outputs": [
        {
          "output_type": "stream",
          "name": "stdout",
          "text": [
            "20\n"
          ]
        }
      ]
    },
    {
      "cell_type": "code",
      "source": [
        "# 2- CRIE A MEDIA DE 3 NUMEROS.\n",
        "\n",
        "media= (3 + 3 + 3) / 3\n",
        "print(media)"
      ],
      "metadata": {
        "colab": {
          "base_uri": "https://localhost:8080/"
        },
        "id": "eWit_T9ZcUfU",
        "outputId": "8415110d-5298-479f-ac33-2bd3bce5ceac"
      },
      "execution_count": null,
      "outputs": [
        {
          "output_type": "stream",
          "name": "stdout",
          "text": [
            "3.0\n"
          ]
        }
      ]
    },
    {
      "cell_type": "code",
      "source": [
        "# 3- CALCULE O IMC (KG DIVIDIDO PELA ALTURA (EM METROS) ELEVADO AO QUADRADO).\n",
        "\n",
        "IMC= 50 // 1.67 ** 2\n",
        "print(IMC)"
      ],
      "metadata": {
        "colab": {
          "base_uri": "https://localhost:8080/"
        },
        "id": "pnkZcEBWdSzL",
        "outputId": "638f6b0e-8fd5-4ce2-c634-f2c9bb3ae1dc"
      },
      "execution_count": null,
      "outputs": [
        {
          "output_type": "stream",
          "name": "stdout",
          "text": [
            "17.0\n"
          ]
        }
      ]
    },
    {
      "cell_type": "code",
      "source": [
        "# 4- (DESAFIO) VOCE TEM UM DETERMINADO NUMERO DE OVOS DE PASCOA PARA DIVIDIR EM UM DETERMINADO NUMERO DE PESSOAS. DETERINE QUANTO OVOS FICARAM PARA CADA PESSOA E QUANTOS SOBRARAO.\n",
        "\n",
        "ovos= 7\n",
        "pessoas= 5\n",
        "divisao= 7//5\n",
        "print('tera', divisao, 'para cada pessoa')\n",
        "resto= 7%5\n",
        "print('restara', resto, 'ovos')"
      ],
      "metadata": {
        "colab": {
          "base_uri": "https://localhost:8080/"
        },
        "id": "_KleqtMafADS",
        "outputId": "c1c266ad-f0aa-420b-8d67-e0a6121620da"
      },
      "execution_count": null,
      "outputs": [
        {
          "output_type": "stream",
          "name": "stdout",
          "text": [
            "tera 1 para cada pessoa\n",
            "restara 2 ovos\n"
          ]
        }
      ]
    },
    {
      "cell_type": "markdown",
      "source": [
        "# **OPERADORES LOGICOS**"
      ],
      "metadata": {
        "id": "vy6QsjRk-niA"
      }
    },
    {
      "cell_type": "code",
      "source": [
        "# AND- sera verdadeiro se todos o valores envolvidos forem verdadeiros, se nao, sera falso.\n",
        "# True e True= True\n",
        "# True e False= False\n",
        "# False e False= False\n",
        "\n",
        "var1= True\n",
        "var2= True\n",
        "print(var1 and var2)\n",
        "var1= True\n",
        "var2= False\n",
        "print(var1 and var2)\n",
        "var1= False\n",
        "var2= False\n",
        "print(var1 and var2)\n",
        "\n",
        "\n",
        "# OR- sera verdadeiro de pelo menos um dos valores for verdadeiro.\n",
        "# true e true= true\n",
        "# true e false= true\n",
        "# false e false= false\n",
        "\n",
        "var1= True\n",
        "var2= True\n",
        "print(var1 or var2)\n",
        "var1= True\n",
        "var2= False\n",
        "print(var1 or var2)\n",
        "var1= False\n",
        "var2= False\n",
        "print(var1 or var2)\n",
        "\n",
        "\n",
        "# NOT- inverete os valores\n",
        "# NOT(true)= false\n",
        "# NOT(false)= true\n",
        "\n",
        "# A prioridade sera NOT, AND, OR."
      ],
      "metadata": {
        "id": "r-FLu6OjBESO",
        "colab": {
          "base_uri": "https://localhost:8080/"
        },
        "outputId": "632ee914-230e-49d7-c36d-14eb8c07e57f"
      },
      "execution_count": null,
      "outputs": [
        {
          "output_type": "stream",
          "name": "stdout",
          "text": [
            "True\n",
            "False\n",
            "False\n",
            "True\n",
            "True\n",
            "False\n"
          ]
        }
      ]
    },
    {
      "cell_type": "markdown",
      "source": [
        "# **EXERCICOS OPERADORES LOGICOS**"
      ],
      "metadata": {
        "id": "TmNxCgYkzBAg"
      }
    },
    {
      "cell_type": "code",
      "source": [
        "# 1- CRIE UM PROGRAMA QUE DIGA SE VOCE PRECISA IR NO MERCADO. VOCE PRECISA IR SE \"FALTAR COMIDA\" OU \"SE FOR SABADO\".\n",
        "\n",
        "falta_comida= True\n",
        "sabado= False\n",
        "print('preciso ir no mercado?', falta_comida or sabado)"
      ],
      "metadata": {
        "colab": {
          "base_uri": "https://localhost:8080/"
        },
        "id": "7_k0Hvf_zID3",
        "outputId": "c00a5d2b-cae4-4fbd-f6e4-7443db05bbfe"
      },
      "execution_count": null,
      "outputs": [
        {
          "output_type": "stream",
          "name": "stdout",
          "text": [
            "preciso ir no mercado? True\n"
          ]
        }
      ]
    },
    {
      "cell_type": "code",
      "source": [
        "# 2- CRIE UM PROGAMA QUE RESPONDA SE VOCE PODE ATRAVESSAR A RUA. PODE SE \"O SINAL ESTIVER VERMELHO\", \"SE NAO VIER CARRO DA DIREIRA\" E \"NEM DA ESQUERDA\".\n",
        "\n",
        "sinal_vermelho= True\n",
        "direita= True\n",
        "esquerda= True\n",
        "print('posso atravessar a rua?', sinal_vermelho and direita and esquerda)"
      ],
      "metadata": {
        "colab": {
          "base_uri": "https://localhost:8080/"
        },
        "id": "56_Ys4jq0Y9l",
        "outputId": "ea65dec6-22c5-4fff-d154-e9e1dfb35690"
      },
      "execution_count": null,
      "outputs": [
        {
          "output_type": "stream",
          "name": "stdout",
          "text": [
            "posso atravessar a rua? True\n"
          ]
        }
      ]
    },
    {
      "cell_type": "code",
      "source": [
        "# 3- FAÇA O MESMO QUE A 2 POREM, APENAS SE O \"SINAL TA VERMELHO\" OU \"TEM CARROS VINDO\".\n",
        "\n",
        "sinal= False\n",
        "carro= False\n",
        "print('posso passar?', sinal or not carro)"
      ],
      "metadata": {
        "colab": {
          "base_uri": "https://localhost:8080/"
        },
        "id": "qvrncrlB1q_T",
        "outputId": "0ab59a6d-0040-42c5-85aa-4144edafb133"
      },
      "execution_count": null,
      "outputs": [
        {
          "output_type": "stream",
          "name": "stdout",
          "text": [
            "posso passar? True\n"
          ]
        }
      ]
    },
    {
      "cell_type": "markdown",
      "source": [
        "# **TYPE E CASTING**"
      ],
      "metadata": {
        "id": "lc-yhq1dxCX_"
      }
    },
    {
      "cell_type": "code",
      "source": [
        "# o TYPE mostrar qual tipo de variavel esta sendo ultilizada.\n",
        "\n",
        "texto= 'ola mundo'\n",
        "numero= 10\n",
        "decimal= 9.9\n",
        "booleano= True\n",
        "print(type(texto))\n",
        "print(type(numero))\n",
        "print(type(decimal))\n",
        "print(type(booleano))"
      ],
      "metadata": {
        "colab": {
          "base_uri": "https://localhost:8080/"
        },
        "id": "Y8qsw9E-xjpT",
        "outputId": "0287a88c-4d25-48b6-e360-753ec5a9eb4c"
      },
      "execution_count": null,
      "outputs": [
        {
          "output_type": "stream",
          "name": "stdout",
          "text": [
            "<class 'str'>\n",
            "<class 'int'>\n",
            "<class 'float'>\n",
            "<class 'bool'>\n"
          ]
        }
      ]
    },
    {
      "cell_type": "code",
      "source": [
        "# o CASTING converte as variaveis.\n",
        "\n",
        "texto1= '5'\n",
        "texto2= '4.9'\n",
        "num1= int(texto1)\n",
        "num2= float(texto2)\n",
        "print(num1 + num2)\n",
        "\n",
        "# exemmplo 2.\n",
        "\n",
        "num= 99.99999\n",
        "num2=int(num)\n",
        "print('a parte inteira de %f é: %d' % (num, num2))\n",
        "\n",
        "#exemplo 3.\n",
        "\n",
        "num= 12345\n",
        "texto= str(num)\n",
        "num_dig= len(texto) # LEN retorna o tamanho do texto\n",
        "print(\"o numero %s tem %d digitos\" % (num, num_dig))"
      ],
      "metadata": {
        "colab": {
          "base_uri": "https://localhost:8080/"
        },
        "id": "HK_aVO7uzxCm",
        "outputId": "77ea4ba6-5279-4bf6-9791-67eb3e1af087"
      },
      "execution_count": null,
      "outputs": [
        {
          "output_type": "stream",
          "name": "stdout",
          "text": [
            "9.9\n",
            "a parte inteira de 99.999990 é: 99\n",
            "o numero 12345 tem 5 digitos\n"
          ]
        }
      ]
    },
    {
      "cell_type": "markdown",
      "source": [
        "# **EXERCICOS TYPE E CASTING**"
      ],
      "metadata": {
        "id": "MAwI6H8g5pTf"
      }
    },
    {
      "cell_type": "code",
      "source": [
        "# 1- CRIE UM PROGRAMA QUE TENHA UMA VARIAVEL \"STRING\" CONTENDO UM NUMERO DE QUANTO VOCE TEM NO BANCO, EM SEGUIDA DESCONTE 1000 DESSE VALOR.\n",
        "\n",
        "saldo= '8500'\n",
        "inteiro= int(saldo)\n",
        "sub= (inteiro - 1000)\n",
        "print('seu valor no banco é %2s:' % (sub))"
      ],
      "metadata": {
        "colab": {
          "base_uri": "https://localhost:8080/"
        },
        "id": "lSm1He3T51TC",
        "outputId": "e6b873b4-7025-4790-a370-cf707eaedaf7"
      },
      "execution_count": null,
      "outputs": [
        {
          "output_type": "stream",
          "name": "stdout",
          "text": [
            "seu valor no banco é 7500:\n"
          ]
        }
      ]
    },
    {
      "cell_type": "code",
      "source": [
        "# 2- INDIQUE SE SEU SALDO BANCARIO ESTA ZERADO (VALOR LOGICO). DECLARE UMA VARIAVEL PARA GUARDAR SEU SALDO.\n",
        "\n",
        "saldo= 0\n",
        "zerado= not bool(saldo)\n",
        "print('o saldo esta zerado?', zerado)"
      ],
      "metadata": {
        "colab": {
          "base_uri": "https://localhost:8080/"
        },
        "id": "kAem9Kmc9F1y",
        "outputId": "63c99205-b95c-4155-991a-fa9f805540c9"
      },
      "execution_count": null,
      "outputs": [
        {
          "output_type": "stream",
          "name": "stdout",
          "text": [
            "o saldo esta zerado? True\n"
          ]
        }
      ]
    },
    {
      "cell_type": "code",
      "source": [
        "# 3- CRIE UM PROGRAMA QUE CONTENHA SUA ALTURA, POREM DEVA MOSTRAR APENAS A PARTE INTEIRA.\n",
        "\n",
        "altura= 1.67\n",
        "inteira= int(altura)\n",
        "print('tenho mais ou menos %d metro(s) de altura' % (inteira))"
      ],
      "metadata": {
        "colab": {
          "base_uri": "https://localhost:8080/"
        },
        "id": "1eQ2IPI6-9Uw",
        "outputId": "83a6f3af-55c8-463e-b31d-670525199205"
      },
      "execution_count": null,
      "outputs": [
        {
          "output_type": "stream",
          "name": "stdout",
          "text": [
            "tenho mais ou menos 1 metro(s) de altura\n"
          ]
        }
      ]
    },
    {
      "cell_type": "markdown",
      "source": [
        "# **INPUT**"
      ],
      "metadata": {
        "id": "7RF7WK0jw8oy"
      }
    },
    {
      "cell_type": "code",
      "source": [
        "# o input guarda o valor do usuario\n",
        "\n",
        "texto= input()\n",
        "print(texto)\n",
        "\n",
        "nome= input()\n",
        "print('Eu me chamo %s' %(nome))"
      ],
      "metadata": {
        "colab": {
          "base_uri": "https://localhost:8080/"
        },
        "id": "qJ8IgtpSxUO6",
        "outputId": "298441e9-5cab-49d3-90b4-4d19286de186"
      },
      "execution_count": null,
      "outputs": [
        {
          "output_type": "stream",
          "name": "stdout",
          "text": [
            "ola mundo\n",
            "ola mundo\n",
            "maria\n",
            "Eu me chamo maria\n"
          ]
        }
      ]
    },
    {
      "cell_type": "code",
      "source": [
        "dia= input('digite o dia: ')\n",
        "mes= input('digite o mes: ')\n",
        "ano= input('digite o ano: ')\n",
        "print(\"a data inserida foi: %s/%s/%s\"2 % (dia, mes, ano))"
      ],
      "metadata": {
        "colab": {
          "base_uri": "https://localhost:8080/"
        },
        "id": "Mh3TePqfz62l",
        "outputId": "39d2c51d-c655-4b48-ba82-bcfb757a401d"
      },
      "execution_count": null,
      "outputs": [
        {
          "output_type": "stream",
          "name": "stdout",
          "text": [
            "digite o dia: 19\n",
            "digite o mes: 05\n",
            "digite o ano: 2025\n",
            "a data inserida foi: 19/05/2025\n"
          ]
        }
      ]
    },
    {
      "cell_type": "code",
      "source": [
        "# o input pode ser usado tambem para ler valores logicos\n",
        "\n",
        "texto= input('digite 1 para verdadeiros e 0 para falso: ')\n",
        "valor= int(texto)\n",
        "vf= bool(valor)\n",
        "print('voce escolheu: %s' %(vf))"
      ],
      "metadata": {
        "colab": {
          "base_uri": "https://localhost:8080/"
        },
        "id": "fthvisrV1FE6",
        "outputId": "d69e9d5f-b93f-4d6a-d6ae-742234f98436"
      },
      "execution_count": null,
      "outputs": [
        {
          "output_type": "stream",
          "name": "stdout",
          "text": [
            "digite 1 para verdadeiros e 0 para falso: 0\n",
            "voce escolheu: False\n"
          ]
        }
      ]
    },
    {
      "cell_type": "markdown",
      "source": [
        "# **EXERCICIOS INPUT**"
      ],
      "metadata": {
        "id": "vDNJ5Dw024P0"
      }
    },
    {
      "cell_type": "code",
      "source": [
        "# 1- CRIE UM PROGRAMA QUE LEIA POR INPUT 2 NUMEROS E REALIZE A DIVISAO DE AMBOS.\n",
        "\n",
        "num1= input('digite um numero: ')\n",
        "num2= input('digite um numero: ')\n",
        "divisao= float(num1)/float(num2)\n",
        "print('o resultado de %s dividido por %s e: %f ' % (num1, num2, divisao))"
      ],
      "metadata": {
        "colab": {
          "base_uri": "https://localhost:8080/"
        },
        "id": "e6Y8Rg8e2-8a",
        "outputId": "4b8264e0-c00d-42dd-b884-6e5133aed582"
      },
      "execution_count": null,
      "outputs": [
        {
          "output_type": "stream",
          "name": "stdout",
          "text": [
            "digite um numero: 10\n",
            "digite um numero: 2\n",
            "o resultado de 10 dividido por 2 e: 5 \n"
          ]
        }
      ]
    },
    {
      "cell_type": "code",
      "source": [
        "# 2- CRIE UM PROGRAMA QUE MOSTRE O DIA, MES, ANO, HORA MINUTO E SEGUNDO.\n",
        "\n",
        "dia= input('digite o dia: ')\n",
        "mes= input('digite o mes: ')\n",
        "ano= input('digite o ano: ')\n",
        "print('a data inserida foi: %s/%s/%s' % (dia, mes, ano))\n",
        "\n",
        "print('e sao:')\n",
        "\n",
        "hora= input('digite a hora: ')\n",
        "minuto= input('digite o minuto: ')\n",
        "segundo= input('digite o segundo: ')\n",
        "print('o horario exato e: %s:%s:%s' % (hora, minuto, segundo))"
      ],
      "metadata": {
        "colab": {
          "base_uri": "https://localhost:8080/"
        },
        "id": "bNesFGvk4i0q",
        "outputId": "e8be98dd-1a1c-4237-df6a-8a8b8dfbcd4b"
      },
      "execution_count": null,
      "outputs": [
        {
          "output_type": "stream",
          "name": "stdout",
          "text": [
            "digite o dia: 17\n",
            "digite o mes: 11\n",
            "digite o ano: 2005\n",
            "a data inserida foi: 17/11/2005\n",
            "e sao:\n",
            "digite a hora: 11\n",
            "digite o minuto: 30\n",
            "digite o segundo: 00\n",
            "o horario exato e: 11:30:00\n"
          ]
        }
      ]
    },
    {
      "cell_type": "markdown",
      "source": [
        "# **OPERADORES DE ATRIBUIÇAO E COMBINAÇAO DE OPERADORES LOGICOS**"
      ],
      "metadata": {
        "id": "Ksa_Ysd-97BP"
      }
    },
    {
      "cell_type": "code",
      "source": [
        "numero= 1\n",
        "numero= numero + 1\n",
        "print(numero)\n",
        "\n",
        "#ou\n",
        "\n",
        "numero= 1\n",
        "numero+= 1\n",
        "print(numero)\n"
      ],
      "metadata": {
        "id": "0-5_jy7Z-Z3T",
        "colab": {
          "base_uri": "https://localhost:8080/",
          "height": 0
        },
        "outputId": "14b7e9b8-792e-4301-a230-4161d63c86e2"
      },
      "execution_count": 2,
      "outputs": [
        {
          "output_type": "stream",
          "name": "stdout",
          "text": [
            "2\n",
            "2\n"
          ]
        }
      ]
    },
    {
      "cell_type": "code",
      "source": [
        "# \"==\" serve para saber se os numeros sao os mesmos\n",
        "numero= 20\n",
        "booleana= (numero == 10)\n",
        "print(booleana)\n",
        "\n",
        "# \"!=\" serve para saber se os numeros sao diferentes\n",
        "numero= 20\n",
        "booleana= (numero != 10)\n",
        "print(booleana)"
      ],
      "metadata": {
        "colab": {
          "base_uri": "https://localhost:8080/",
          "height": 0
        },
        "id": "_vdTdg3sioiW",
        "outputId": "7970b055-a66e-481a-c2b5-a656c9771c07"
      },
      "execution_count": 4,
      "outputs": [
        {
          "output_type": "stream",
          "name": "stdout",
          "text": [
            "False\n",
            "True\n"
          ]
        }
      ]
    },
    {
      "cell_type": "code",
      "source": [
        "num1= 10\n",
        "num2= 20\n",
        "maior= num1 < num2\n",
        "print(maior)\n",
        "\n",
        "num1= 10\n",
        "num2= 10\n",
        "maior= num1 <= num2\n",
        "print(maior)"
      ],
      "metadata": {
        "colab": {
          "base_uri": "https://localhost:8080/",
          "height": 0
        },
        "id": "eZiFHnuZkkHa",
        "outputId": "9d765018-7f7f-42ed-ebf2-657d928a34e5"
      },
      "execution_count": 6,
      "outputs": [
        {
          "output_type": "stream",
          "name": "stdout",
          "text": [
            "True\n",
            "True\n"
          ]
        }
      ]
    },
    {
      "cell_type": "code",
      "source": [
        "num= 5\n",
        "boolean= num > 0 and num < 10\n",
        "print(boolean)"
      ],
      "metadata": {
        "colab": {
          "base_uri": "https://localhost:8080/",
          "height": 0
        },
        "id": "CtOr7994rahx",
        "outputId": "d0b02725-bc26-4a03-9307-c082eb8879ae"
      },
      "execution_count": 7,
      "outputs": [
        {
          "output_type": "stream",
          "name": "stdout",
          "text": [
            "True\n"
          ]
        }
      ]
    },
    {
      "cell_type": "markdown",
      "source": [
        "# **EXERCICIOS ATRIBUIÇAO E COMBINAÇAO DE OPERADORES LOGICOS**"
      ],
      "metadata": {
        "id": "a-lWqe5us_RP"
      }
    },
    {
      "cell_type": "code",
      "source": [
        "# 1- CRIE UM PROGRAMA QUE DIGA SE VOCE FOI APROVADO EM UMA PROVA, A MEDIA SERA DE 7\n",
        "\n",
        "media= int(input('qual foi a sua media?: '))\n",
        "boolean= (media >= 7)\n",
        "print(boolean)"
      ],
      "metadata": {
        "colab": {
          "base_uri": "https://localhost:8080/",
          "height": 0
        },
        "id": "GNxCvsPatKoi",
        "outputId": "80c49dec-2d70-439e-b064-3d19731a0c83"
      },
      "execution_count": 18,
      "outputs": [
        {
          "output_type": "stream",
          "name": "stdout",
          "text": [
            "qual foi a sua media?: 5\n",
            "False\n"
          ]
        }
      ]
    },
    {
      "cell_type": "code",
      "source": [
        "# 2- CRIE UM PROGRAMA QUE DIGA DE A SENHA ESTA CORRETA\n",
        "\n",
        "senha= int(input('digite a senha: '))\n",
        "senha_correta= 1966\n",
        "comparacao= senha == senha_correta\n",
        "print(comparacao)\n",
        "\n"
      ],
      "metadata": {
        "colab": {
          "base_uri": "https://localhost:8080/",
          "height": 0
        },
        "id": "aR5MAzWUtco2",
        "outputId": "59c0e940-b958-4d6e-a78c-5961dbb73154"
      },
      "execution_count": 20,
      "outputs": [
        {
          "output_type": "stream",
          "name": "stdout",
          "text": [
            "digite a senha: 1966\n",
            "True\n"
          ]
        }
      ]
    },
    {
      "cell_type": "markdown",
      "source": [
        "# **SLICING E STRINGS**"
      ],
      "metadata": {
        "id": "UqSUGDEE-zX5"
      }
    },
    {
      "cell_type": "code",
      "source": [
        " # o uso dos [] indica qual letra vai ser selecionada (começando do 0)\n",
        "\n",
        "texto= 'exemplo'\n",
        "print(texto[0])\n",
        "print(texto[1])\n",
        "print(texto[2])\n",
        "print(texto[3])\n",
        "print(texto[4])\n",
        "print(texto[5])\n",
        "print(texto[6])\n",
        "\n"
      ],
      "metadata": {
        "colab": {
          "base_uri": "https://localhost:8080/"
        },
        "id": "foIi0e83-4Jf",
        "outputId": "fd65dcd1-c31a-4ff6-8665-e6def235df86"
      },
      "execution_count": 22,
      "outputs": [
        {
          "output_type": "stream",
          "name": "stdout",
          "text": [
            "e\n",
            "x\n",
            "e\n",
            "m\n",
            "p\n",
            "l\n",
            "o\n"
          ]
        }
      ]
    },
    {
      "cell_type": "code",
      "source": [
        "# o [] com separaçao de : indica de onde ate onde sera pego as letras.\n",
        "\n",
        "texto= 'exemplo'\n",
        "print(texto[3:5])\n",
        "print(texto[3:])\n",
        "print(texto[0:4])\n",
        "\n",
        "# tambem tem na forma negativa.\n",
        "\n",
        "texto= 'exemplo'\n",
        "print(texto[-4])\n",
        "\n",
        "# tambem é possivel inverter a palavra\n",
        "\n",
        "texto= 'exemplo'\n",
        "print(texto[::-1])\n",
        "\n",
        "#tambem se pode atualizar a variavel\n",
        "\n",
        "texto= '023'\n",
        "texto= '1' + texto[1:]\n",
        "print(texto)\n",
        "\n",
        "#para remover um numero ou letra\n",
        "\n",
        "texto= 'abcdefg'\n",
        "texto= texto[:3] + texto[4:]\n",
        "print(texto)"
      ],
      "metadata": {
        "colab": {
          "base_uri": "https://localhost:8080/"
        },
        "id": "i41iS_zsAcZo",
        "outputId": "96cb6cba-525b-4ada-fafa-f6b29b944b98"
      },
      "execution_count": 34,
      "outputs": [
        {
          "output_type": "stream",
          "name": "stdout",
          "text": [
            "mp\n",
            "mplo\n",
            "exem\n",
            "m\n",
            "olpmexe\n",
            "123\n",
            "abcefg\n"
          ]
        }
      ]
    },
    {
      "cell_type": "code",
      "source": [
        "# é possivel testar se existe uma letra em determinada palavra.\n",
        "\n",
        "texto= 'programacao'\n",
        "print('a' in texto)\n",
        "print('e' in texto)\n",
        "print('programa' in texto)\n",
        "print('programa' not in texto)"
      ],
      "metadata": {
        "colab": {
          "base_uri": "https://localhost:8080/"
        },
        "id": "shvEuAY1HAbM",
        "outputId": "a7a5aaeb-c53d-438f-e3e5-8ec6a135ee8a"
      },
      "execution_count": 36,
      "outputs": [
        {
          "output_type": "stream",
          "name": "stdout",
          "text": [
            "True\n",
            "False\n",
            "True\n",
            "False\n"
          ]
        }
      ]
    },
    {
      "cell_type": "code",
      "source": [
        "# len é usado para mostrar o tamanho do texto.\n",
        "\n",
        "tamanho= len(texto)\n",
        "print(tamanho)\n"
      ],
      "metadata": {
        "colab": {
          "base_uri": "https://localhost:8080/"
        },
        "id": "-6NzAlyTH249",
        "outputId": "12c489c6-cc2f-48ac-ff8f-58b45d6294ea"
      },
      "execution_count": 37,
      "outputs": [
        {
          "output_type": "stream",
          "name": "stdout",
          "text": [
            "11\n"
          ]
        }
      ]
    },
    {
      "cell_type": "markdown",
      "source": [
        "# **EXERCICIOS SLICING E STRING**"
      ],
      "metadata": {
        "id": "d2oGvQEbIc7Y"
      }
    },
    {
      "cell_type": "code",
      "source": [
        "# 1- CRIE UMA UNICA STRING QUE CONTEM SEU NOME E SOBRENOME, DEPOIS CRIE UMA SLICING PARA SEPARALAS\n",
        "\n",
        "nome_completo= 'maria magalhaes'\n",
        "nome= nome_completo[:5]\n",
        "sobrenome= nome_completo[5:]\n",
        "print('nome:', nome)\n",
        "print('sobrenome:', sobrenome)"
      ],
      "metadata": {
        "colab": {
          "base_uri": "https://localhost:8080/"
        },
        "id": "2I5Szth7IlAX",
        "outputId": "1854a598-d77d-4c10-ce2f-333262222ea5"
      },
      "execution_count": 42,
      "outputs": [
        {
          "output_type": "stream",
          "name": "stdout",
          "text": [
            "nome: maria\n",
            "sobrenome:  magalhaes\n"
          ]
        }
      ]
    },
    {
      "cell_type": "code",
      "source": [
        "# 2- LEIA UMA STRING ATRAVES DO INPUT E RETIRE O ULTIMO CARACTER\n",
        "\n",
        "texto= input('escreva uma palavra: ')\n",
        "cortado= texto[:-1]\n",
        "print(cortado)"
      ],
      "metadata": {
        "colab": {
          "base_uri": "https://localhost:8080/"
        },
        "id": "4JvyXqlMK1Kw",
        "outputId": "47cd6ce6-d0ec-4013-e222-b674afeed410"
      },
      "execution_count": 43,
      "outputs": [
        {
          "output_type": "stream",
          "name": "stdout",
          "text": [
            "escreva uma palavra: computador\n",
            "computado\n"
          ]
        }
      ]
    },
    {
      "cell_type": "code",
      "source": [
        "# 3- FAÇA UM PROGRAMA QUE LEIA UMA STRING ATRAVES DO INPUT E DIGA SE ELA POSSUI UMA VOGAL.\n",
        "\n",
        "texto= input('digite uma palavra: ')\n",
        "print('a' in texto)\n",
        "print('e' in texto)\n",
        "print('i' in texto)\n",
        "print('o' in texto)\n",
        "print('u' in texto)"
      ],
      "metadata": {
        "colab": {
          "base_uri": "https://localhost:8080/"
        },
        "id": "7zwliPQyLnVq",
        "outputId": "19989da4-8705-4468-a6de-71ee8b919828"
      },
      "execution_count": 44,
      "outputs": [
        {
          "output_type": "stream",
          "name": "stdout",
          "text": [
            "digite uma palavra: computador\n",
            "True\n",
            "False\n",
            "False\n",
            "True\n",
            "True\n"
          ]
        }
      ]
    },
    {
      "cell_type": "code",
      "source": [
        "# 4- FAÇA UM PROGRAMA QUE INSIRA A PALAVRA \"ABC\" NA PRIMEIRA POSIÇAO DE UMA STRING LIDA POR INPUT\n",
        "\n",
        "texto= input('digite uma palavra: ')\n",
        "texto= 'abc' + texto[0:]\n",
        "print(texto)"
      ],
      "metadata": {
        "colab": {
          "base_uri": "https://localhost:8080/"
        },
        "id": "4fIGauDCMlpW",
        "outputId": "c0d42178-f81e-4f00-f7cc-da3525a4b60f"
      },
      "execution_count": 45,
      "outputs": [
        {
          "output_type": "stream",
          "name": "stdout",
          "text": [
            "digite uma palavra: defg\n",
            "abcdefg\n"
          ]
        }
      ]
    }
  ]
}